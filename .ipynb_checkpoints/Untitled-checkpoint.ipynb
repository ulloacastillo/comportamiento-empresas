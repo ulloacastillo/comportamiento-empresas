{
 "cells": [
  {
   "cell_type": "code",
   "execution_count": 1,
   "id": "886a69e4",
   "metadata": {},
   "outputs": [],
   "source": [
    "import pandas as pd\n",
    "import matplotlib.pyplot as plt"
   ]
  },
  {
   "cell_type": "code",
   "execution_count": 2,
   "id": "c1b88205",
   "metadata": {},
   "outputs": [
    {
     "data": {
      "text/html": [
       "<div>\n",
       "<style scoped>\n",
       "    .dataframe tbody tr th:only-of-type {\n",
       "        vertical-align: middle;\n",
       "    }\n",
       "\n",
       "    .dataframe tbody tr th {\n",
       "        vertical-align: top;\n",
       "    }\n",
       "\n",
       "    .dataframe thead th {\n",
       "        text-align: right;\n",
       "    }\n",
       "</style>\n",
       "<table border=\"1\" class=\"dataframe\">\n",
       "  <thead>\n",
       "    <tr style=\"text-align: right;\">\n",
       "      <th></th>\n",
       "      <th>name</th>\n",
       "      <th>year</th>\n",
       "      <th>claims</th>\n",
       "      <th>market claims</th>\n",
       "      <th>solved mean</th>\n",
       "      <th>market mean solved</th>\n",
       "      <th>response mean</th>\n",
       "      <th>market response mean</th>\n",
       "      <th>mean days</th>\n",
       "      <th>mean days market</th>\n",
       "    </tr>\n",
       "  </thead>\n",
       "  <tbody>\n",
       "    <tr>\n",
       "      <th>0</th>\n",
       "      <td>WEPLAY</td>\n",
       "      <td>2019</td>\n",
       "      <td>241</td>\n",
       "      <td>94772</td>\n",
       "      <td>36.7</td>\n",
       "      <td>68.9</td>\n",
       "      <td>94.2</td>\n",
       "      <td>87.4</td>\n",
       "      <td>8</td>\n",
       "      <td>5.0</td>\n",
       "    </tr>\n",
       "    <tr>\n",
       "      <th>1</th>\n",
       "      <td>WEPLAY</td>\n",
       "      <td>2020</td>\n",
       "      <td>793</td>\n",
       "      <td>385816</td>\n",
       "      <td>78.0</td>\n",
       "      <td>79.2</td>\n",
       "      <td>89.9</td>\n",
       "      <td>86.1</td>\n",
       "      <td>7</td>\n",
       "      <td>6.0</td>\n",
       "    </tr>\n",
       "    <tr>\n",
       "      <th>2</th>\n",
       "      <td>WEPLAY</td>\n",
       "      <td>2021</td>\n",
       "      <td>452</td>\n",
       "      <td>282818</td>\n",
       "      <td>69.9</td>\n",
       "      <td>73.9</td>\n",
       "      <td>97.1</td>\n",
       "      <td>88.5</td>\n",
       "      <td>6</td>\n",
       "      <td>4.0</td>\n",
       "    </tr>\n",
       "    <tr>\n",
       "      <th>3</th>\n",
       "      <td>WEPLAY</td>\n",
       "      <td>2022</td>\n",
       "      <td>276</td>\n",
       "      <td>186318</td>\n",
       "      <td>63.0</td>\n",
       "      <td>68.2</td>\n",
       "      <td>99.6</td>\n",
       "      <td>89.4</td>\n",
       "      <td>5</td>\n",
       "      <td>4.0</td>\n",
       "    </tr>\n",
       "    <tr>\n",
       "      <th>5</th>\n",
       "      <td>TRICOT</td>\n",
       "      <td>2019</td>\n",
       "      <td>270</td>\n",
       "      <td>94772</td>\n",
       "      <td>68.7</td>\n",
       "      <td>68.9</td>\n",
       "      <td>99.6</td>\n",
       "      <td>87.4</td>\n",
       "      <td>6</td>\n",
       "      <td>5.0</td>\n",
       "    </tr>\n",
       "    <tr>\n",
       "      <th>...</th>\n",
       "      <td>...</td>\n",
       "      <td>...</td>\n",
       "      <td>...</td>\n",
       "      <td>...</td>\n",
       "      <td>...</td>\n",
       "      <td>...</td>\n",
       "      <td>...</td>\n",
       "      <td>...</td>\n",
       "      <td>...</td>\n",
       "      <td>...</td>\n",
       "    </tr>\n",
       "    <tr>\n",
       "      <th>238</th>\n",
       "      <td>limonada - black and blue - 4 kids - steppis</td>\n",
       "      <td>2022</td>\n",
       "      <td>83</td>\n",
       "      <td>186318</td>\n",
       "      <td>43.6</td>\n",
       "      <td>68.2</td>\n",
       "      <td>100.0</td>\n",
       "      <td>89.4</td>\n",
       "      <td>1</td>\n",
       "      <td>4.0</td>\n",
       "    </tr>\n",
       "    <tr>\n",
       "      <th>239</th>\n",
       "      <td>lippi-hakahonu-geography</td>\n",
       "      <td>2019</td>\n",
       "      <td>1753</td>\n",
       "      <td>94772</td>\n",
       "      <td>77.0</td>\n",
       "      <td>68.9</td>\n",
       "      <td>71.5</td>\n",
       "      <td>87.4</td>\n",
       "      <td>8</td>\n",
       "      <td>5.0</td>\n",
       "    </tr>\n",
       "    <tr>\n",
       "      <th>240</th>\n",
       "      <td>lippi-hakahonu-geography</td>\n",
       "      <td>2020</td>\n",
       "      <td>811</td>\n",
       "      <td>385816</td>\n",
       "      <td>83.0</td>\n",
       "      <td>79.2</td>\n",
       "      <td>82.4</td>\n",
       "      <td>86.1</td>\n",
       "      <td>6</td>\n",
       "      <td>6.0</td>\n",
       "    </tr>\n",
       "    <tr>\n",
       "      <th>241</th>\n",
       "      <td>lippi-hakahonu-geography</td>\n",
       "      <td>2021</td>\n",
       "      <td>794</td>\n",
       "      <td>282818</td>\n",
       "      <td>71.5</td>\n",
       "      <td>73.9</td>\n",
       "      <td>98.5</td>\n",
       "      <td>88.5</td>\n",
       "      <td>5</td>\n",
       "      <td>4.0</td>\n",
       "    </tr>\n",
       "    <tr>\n",
       "      <th>242</th>\n",
       "      <td>lippi-hakahonu-geography</td>\n",
       "      <td>2022</td>\n",
       "      <td>686</td>\n",
       "      <td>186318</td>\n",
       "      <td>69.4</td>\n",
       "      <td>68.2</td>\n",
       "      <td>99.4</td>\n",
       "      <td>89.4</td>\n",
       "      <td>6</td>\n",
       "      <td>4.0</td>\n",
       "    </tr>\n",
       "  </tbody>\n",
       "</table>\n",
       "<p>220 rows × 10 columns</p>\n",
       "</div>"
      ],
      "text/plain": [
       "                                             name  year  claims  \\\n",
       "0                                          WEPLAY  2019     241   \n",
       "1                                          WEPLAY  2020     793   \n",
       "2                                          WEPLAY  2021     452   \n",
       "3                                          WEPLAY  2022     276   \n",
       "5                                          TRICOT  2019     270   \n",
       "..                                            ...   ...     ...   \n",
       "238  limonada - black and blue - 4 kids - steppis  2022      83   \n",
       "239                      lippi-hakahonu-geography  2019    1753   \n",
       "240                      lippi-hakahonu-geography  2020     811   \n",
       "241                      lippi-hakahonu-geography  2021     794   \n",
       "242                      lippi-hakahonu-geography  2022     686   \n",
       "\n",
       "     market claims  solved mean  market mean solved  response mean  \\\n",
       "0            94772         36.7                68.9           94.2   \n",
       "1           385816         78.0                79.2           89.9   \n",
       "2           282818         69.9                73.9           97.1   \n",
       "3           186318         63.0                68.2           99.6   \n",
       "5            94772         68.7                68.9           99.6   \n",
       "..             ...          ...                 ...            ...   \n",
       "238         186318         43.6                68.2          100.0   \n",
       "239          94772         77.0                68.9           71.5   \n",
       "240         385816         83.0                79.2           82.4   \n",
       "241         282818         71.5                73.9           98.5   \n",
       "242         186318         69.4                68.2           99.4   \n",
       "\n",
       "     market response mean mean days  mean days market  \n",
       "0                    87.4         8               5.0  \n",
       "1                    86.1         7               6.0  \n",
       "2                    88.5         6               4.0  \n",
       "3                    89.4         5               4.0  \n",
       "5                    87.4         6               5.0  \n",
       "..                    ...       ...               ...  \n",
       "238                  89.4         1               4.0  \n",
       "239                  87.4         8               5.0  \n",
       "240                  86.1         6               6.0  \n",
       "241                  88.5         5               4.0  \n",
       "242                  89.4         6               4.0  \n",
       "\n",
       "[220 rows x 10 columns]"
      ]
     },
     "execution_count": 2,
     "metadata": {},
     "output_type": "execute_result"
    }
   ],
   "source": [
    "df = pd.read_csv('comportamiento-empresas.csv')\n",
    "\n",
    "remove_2023_mask = df['year'] < 2023\n",
    "\n",
    "df = df[remove_2023_mask]\n",
    "df"
   ]
  },
  {
   "cell_type": "code",
   "execution_count": 3,
   "id": "747a8c3e",
   "metadata": {},
   "outputs": [
    {
     "data": {
      "text/html": [
       "<div>\n",
       "<style scoped>\n",
       "    .dataframe tbody tr th:only-of-type {\n",
       "        vertical-align: middle;\n",
       "    }\n",
       "\n",
       "    .dataframe tbody tr th {\n",
       "        vertical-align: top;\n",
       "    }\n",
       "\n",
       "    .dataframe thead th {\n",
       "        text-align: right;\n",
       "    }\n",
       "</style>\n",
       "<table border=\"1\" class=\"dataframe\">\n",
       "  <thead>\n",
       "    <tr style=\"text-align: right;\">\n",
       "      <th></th>\n",
       "      <th>name</th>\n",
       "      <th>year</th>\n",
       "      <th>claims</th>\n",
       "      <th>market claims</th>\n",
       "      <th>solved mean</th>\n",
       "      <th>market mean solved</th>\n",
       "      <th>response mean</th>\n",
       "      <th>market response mean</th>\n",
       "      <th>mean days</th>\n",
       "      <th>mean days market</th>\n",
       "    </tr>\n",
       "  </thead>\n",
       "  <tbody>\n",
       "    <tr>\n",
       "      <th>115</th>\n",
       "      <td>abcdin</td>\n",
       "      <td>2019</td>\n",
       "      <td>4424</td>\n",
       "      <td>94772</td>\n",
       "      <td>47.6</td>\n",
       "      <td>68.0</td>\n",
       "      <td>99.4</td>\n",
       "      <td>87.4</td>\n",
       "      <td>5</td>\n",
       "      <td>5.0</td>\n",
       "    </tr>\n",
       "    <tr>\n",
       "      <th>116</th>\n",
       "      <td>abcdin</td>\n",
       "      <td>2020</td>\n",
       "      <td>6775</td>\n",
       "      <td>385816</td>\n",
       "      <td>56.1</td>\n",
       "      <td>79.2</td>\n",
       "      <td>91.6</td>\n",
       "      <td>86.1</td>\n",
       "      <td>5</td>\n",
       "      <td>6.0</td>\n",
       "    </tr>\n",
       "    <tr>\n",
       "      <th>117</th>\n",
       "      <td>abcdin</td>\n",
       "      <td>2021</td>\n",
       "      <td>7256</td>\n",
       "      <td>282818</td>\n",
       "      <td>63.1</td>\n",
       "      <td>73.9</td>\n",
       "      <td>100.0</td>\n",
       "      <td>88.5</td>\n",
       "      <td>5</td>\n",
       "      <td>4.0</td>\n",
       "    </tr>\n",
       "    <tr>\n",
       "      <th>118</th>\n",
       "      <td>abcdin</td>\n",
       "      <td>2022</td>\n",
       "      <td>3238</td>\n",
       "      <td>186318</td>\n",
       "      <td>41.9</td>\n",
       "      <td>68.2</td>\n",
       "      <td>98.9</td>\n",
       "      <td>89.4</td>\n",
       "      <td>2</td>\n",
       "      <td>4.0</td>\n",
       "    </tr>\n",
       "  </tbody>\n",
       "</table>\n",
       "</div>"
      ],
      "text/plain": [
       "       name  year  claims  market claims  solved mean  market mean solved  \\\n",
       "115  abcdin  2019    4424          94772         47.6                68.0   \n",
       "116  abcdin  2020    6775         385816         56.1                79.2   \n",
       "117  abcdin  2021    7256         282818         63.1                73.9   \n",
       "118  abcdin  2022    3238         186318         41.9                68.2   \n",
       "\n",
       "     response mean  market response mean mean days  mean days market  \n",
       "115           99.4                  87.4         5               5.0  \n",
       "116           91.6                  86.1         5               6.0  \n",
       "117          100.0                  88.5         5               4.0  \n",
       "118           98.9                  89.4         2               4.0  "
      ]
     },
     "execution_count": 3,
     "metadata": {},
     "output_type": "execute_result"
    }
   ],
   "source": [
    "df[df['name'] == 'abcdin']"
   ]
  },
  {
   "cell_type": "code",
   "execution_count": 4,
   "id": "b5412e6e",
   "metadata": {},
   "outputs": [],
   "source": [
    "import ipywidgets as widgets\n"
   ]
  },
  {
   "cell_type": "code",
   "execution_count": 5,
   "id": "46a23a01",
   "metadata": {},
   "outputs": [
    {
     "data": {
      "text/plain": [
       "115    2093.189056\n",
       "116    3481.509900\n",
       "117    4578.536000\n",
       "118    1341.798058\n",
       "dtype: float64"
      ]
     },
     "execution_count": 5,
     "metadata": {},
     "output_type": "execute_result"
    }
   ],
   "source": [
    "(df[df['name'] == 'abcdin']['solved mean']/100)*(df[df['name'] == 'abcdin']['claims'] * (df[df['name'] == 'abcdin']['response mean']/100))\n"
   ]
  },
  {
   "cell_type": "code",
   "execution_count": 121,
   "id": "add86a0c",
   "metadata": {},
   "outputs": [],
   "source": [
    "def plot_company(ax, name, year_risk):\n",
    "    color_1 = 'red'\n",
    "    color_2 = 'blue'\n",
    "    ax[0][0].clear()\n",
    "    ax[0][0].bar(df[df['name'] == name]['year'] - 0.2, df[df['name'] == name]['claims'], width=0.2, color=color_1, label=\"reclamos\")\n",
    "    plt.legend()\n",
    "    ax[0][0].set_xlabel('Año')\n",
    "    ax[0][0].set_ylabel('Reclamos')\n",
    "    ax[0][0].set_title(f'Reclamos por año en {name}')\n",
    "    \n",
    "    plt.xticks(df[df['name'] == name]['year'])\n",
    "\n",
    "    ax[0][0].bar(df[df['name'] == name]['year'] + 0., df[df['name'] == name]['claims'] * (df[df['name'] == name]['response mean']/100),\n",
    "           width=0.2,\n",
    "           color='green',\n",
    "           alpha=0.5,\n",
    "           label=\"reclamos respondidos\")\n",
    "    \n",
    "    ax[0][0].bar(df[df['name'] == name]['year'] + 0.2, (df[df['name'] == name]['solved mean']/100)*(df[df['name'] == name]['claims'] * (df[df['name'] == name]['response mean']/100)),\n",
    "           width=0.2,\n",
    "           color=color_2,\n",
    "           alpha=0.5,\n",
    "           label=\"reclamos resueltos\")\n",
    "    \n",
    "    ax[0][0].plot(df[df['name'] == name]['year'] + 0.2, (df[df['name'] == name]['solved mean']/100)*(df[df['name'] == name]['claims'] * (df[df['name'] == name]['response mean']/100)),\n",
    "           color='purple',\n",
    "           alpha=0.5,\n",
    "           label=\"tendencia reclamos resueltos\")\n",
    "\n",
    "    \n",
    "    tasa = (df[df['name'] == name][df['year']==year]['claims'].values[0] - df[df['name'] == name][df['year']==int(year)-1]['claims'].values[0]) / df[df['name'] == name][df['year']==int(year)-1]['claims'].values[0]\n",
    "    wedgeprops = {'width':0.2, 'edgecolor':'black', 'linewidth':2}\n",
    "    ax[0][1].pie([abs(tasa)*100, 100-(abs(tasa)*100)], wedgeprops=wedgeprops, startangle=90, colors=['#5DADE2', '#515A5A'])\n",
    "    ax[0][1].set_title('Variación reclamos último año', fontsize=10, loc='center')\n",
    "    ax[0][1].text(0, 0, f\"{round(tasa*100, 1)}%\", ha='center', va='center', fontsize=12)\n",
    "\n",
    "\n",
    "    eficiencia_resolucion = (df[df['name'] == name][df['year']==year]['solved mean'].values[0] - df[df['name'] == name][df['year']==int(year)-1]['solved mean'].values[0]) / df[df['name'] == name][df['year']==int(year)-1]['solved mean'].values[0]\n",
    "#    print(f\"La eficiencia de resolución ha aumentado en un: {eficiencia_resolucion*100}%\")\n",
    "    \n",
    "    wedgeprops = {'width':0.2, 'edgecolor':'black', 'linewidth':2}\n",
    "    ax[1][1].pie([abs(eficiencia_resolucion)*100, 100-(abs(eficiencia_resolucion)*100)], wedgeprops=wedgeprops, startangle=90, colors=['#5DADE2', '#515A5A'])\n",
    "    ax[1][1].set_title('Crecimiento eficiencia resolución vs periodo anterior', fontsize=10, loc='center')\n",
    "    ax[1][1].text(0, 0, f\"{round(eficiencia_resolucion*100, 1)}%\", ha='center', va='center', fontsize=12)\n",
    "    \n",
    "    #ax.legend()\n",
    "    #plt.legend()\n",
    "    \n",
    "    company = df[df['name'] == name]\n",
    "    display(company[company['year'] == year_risk])\n",
    "\n",
    "    ax[1][0].set_title('Indice de riesgo reclamos', fontsize=10, loc='center')\n",
    "    if int(company[company['year'] == year_risk]['mean days'].values[0]) > 7:\n",
    "        \n",
    "        ax[1][0].text(0, 0, f\"RIESGOSO: Demoras más de 7 días en promedio en dar solución a los reclamos\", ha='center', va='center', fontsize=10, color='red')\n",
    "    else:\n",
    "        #BAJO LA MEDIA DEL MERCADO\n",
    "        if (company[company['year'] == year_risk]['solved mean'].values[0]) < (company[company['year'] == year_risk]['market mean solved'].values[0]):\n",
    "            #\n",
    "            if (year_risk > 2019) and (company[company['year'] == year_risk]['solved mean'].values[0] < company[company['year'] == year_risk-1]['solved mean'].values[0] ):\n",
    "                \n",
    "                ax[1][0].text(0., 0., \"RIESGOSO\\n La tasa de reclamos resueltos disminuyó vs el año anterior\", ha='center', va='center', fontsize=10, color='red')\n",
    "\n",
    "            else:\n",
    "\n",
    "                ax[1][0].text(0., 0., \"Riesgo Medio\\n Has dado menos solución a los reclamos comparado con el promedio del mercado\", ha='center', va='center', fontsize=12, color='orange')\n",
    "        else:\n",
    "            ax[1][0].text(0., 0., \"Situacion normal\", ha='center', va='center', fontsize=12, color='green')\n",
    "    plt.show()\n",
    "\n",
    "def plot_company_interaction(name, year_risk):\n",
    "    fig, ax = plt.subplots(2,2,figsize=(8, 4), tight_layout=True)\n",
    "    plot_company(ax, name, year_risk)"
   ]
  },
  {
   "cell_type": "markdown",
   "id": "73d1fba6",
   "metadata": {},
   "source": [
    "# Variacion de reclamos por año"
   ]
  },
  {
   "cell_type": "code",
   "execution_count": 123,
   "id": "1e040811",
   "metadata": {
    "scrolled": false
   },
   "outputs": [
    {
     "data": {
      "application/vnd.jupyter.widget-view+json": {
       "model_id": "48bf03542f4a4fd58c1b4d5f2a14d4ca",
       "version_major": 2,
       "version_minor": 0
      },
      "text/plain": [
       "interactive(children=(Dropdown(description='name', options=('WEPLAY', 'TRICOT', 'THE NORTH FACE - ROXY - QUICK…"
      ]
     },
     "metadata": {},
     "output_type": "display_data"
    },
    {
     "data": {
      "text/plain": [
       "<function __main__.plot_company_interaction(name, year_risk)>"
      ]
     },
     "execution_count": 123,
     "metadata": {},
     "output_type": "execute_result"
    }
   ],
   "source": [
    "widgets.interact(plot_company_interaction, name=df['name'].unique(), year_risk=range(2019, 2022+1))\n"
   ]
  },
  {
   "cell_type": "code",
   "execution_count": 74,
   "id": "b6a74401",
   "metadata": {
    "scrolled": true
   },
   "outputs": [],
   "source": [
    "# calculo de indicador de 'riesgo'\n",
    "# si el porcentaje de respuesta esta bajo el mercado, no aumenta el porcentaje de respuesta\n",
    "# y los dias de respuesta son mayor a 7 -> riesgoso\n",
    "\n",
    "HISTORICO = 'HISTORICO'\n",
    "\n",
    "\n",
    "def risk_calculator(name, year):\n",
    "    company = df[df['name'] == name]\n",
    "    display(company[company['year'] == year])\n",
    "\n",
    "\n",
    "    if int(company[company['year'] == year]['mean days'].values[0]) > 7:\n",
    "        print(name, year, '- RIEGOSO: Demoras más de 7 días en promedio en dar solución a los reclamos')\n",
    "    else:\n",
    "        #BAJO LA MEDIA DEL MERCADO\n",
    "        if (company[company['year'] == year]['solved mean'].values[0]) < (company[company['year'] == year]['market mean solved'].values[0]):\n",
    "            #\n",
    "            if (year > 2019) and (company[company['year'] == year]['solved mean'].values[0] < company[company['year'] == year-1]['solved mean'].values[0] ):\n",
    "                print(name, year, '- RIESGOSO: La tasa de reclamos resueltos disminuyó vs el año anterior')\n",
    "\n",
    "\n",
    "            else:\n",
    "                print(name, year, '- Riesgo Medio: Has dado menos solución a los reclamos comparado con el promedio del mercado')\n",
    "        else:\n",
    "            print(name, year,'- Situación Normal')\n",
    "            \n",
    "    if year > 2019:\n",
    "        tasa = (df[df['name'] == name][df['year']==year]['claims'].values[0] - df[df['name'] == name][df['year']==int(year)-1]['claims'].values[0]) / df[df['name'] == name][df['year']==int(year)-1]['claims'].values[0]\n",
    "        print(f\"Los reclamos han aumentado en un: {tasa*100}%\")\n",
    "        \n",
    "        eficiencia_resolucion = (df[df['name'] == name][df['year']==year]['solved mean'].values[0] - df[df['name'] == name][df['year']==int(year)-1]['solved mean'].values[0]) / df[df['name'] == name][df['year']==int(year)-1]['solved mean'].values[0]\n",
    "        print(f\"La eficiencia de resolución ha aumentado en un: {eficiencia_resolucion*100}%\")\n"
   ]
  },
  {
   "cell_type": "code",
   "execution_count": 56,
   "id": "effdfcb0",
   "metadata": {
    "scrolled": true
   },
   "outputs": [
    {
     "data": {
      "application/vnd.jupyter.widget-view+json": {
       "model_id": "bb5e19070c6d4bd7b7fc95dcbfaf625f",
       "version_major": 2,
       "version_minor": 0
      },
      "text/plain": [
       "interactive(children=(Dropdown(description='name', options=('WEPLAY', 'TRICOT', 'THE NORTH FACE - ROXY - QUICK…"
      ]
     },
     "metadata": {},
     "output_type": "display_data"
    },
    {
     "data": {
      "text/plain": [
       "<function __main__.risk_interaction(name, year)>"
      ]
     },
     "execution_count": 56,
     "metadata": {},
     "output_type": "execute_result"
    }
   ],
   "source": [
    "def risk_interaction(name, year):\n",
    "    risk_calculator(name, year)\n",
    "    \n",
    "widgets.interact(risk_interaction, name=df['name'].unique(), year=range(2019, 2022+1))"
   ]
  },
  {
   "cell_type": "code",
   "execution_count": 46,
   "id": "71414703",
   "metadata": {},
   "outputs": [
    {
     "data": {
      "text/html": [
       "<div>\n",
       "<style scoped>\n",
       "    .dataframe tbody tr th:only-of-type {\n",
       "        vertical-align: middle;\n",
       "    }\n",
       "\n",
       "    .dataframe tbody tr th {\n",
       "        vertical-align: top;\n",
       "    }\n",
       "\n",
       "    .dataframe thead th {\n",
       "        text-align: right;\n",
       "    }\n",
       "</style>\n",
       "<table border=\"1\" class=\"dataframe\">\n",
       "  <thead>\n",
       "    <tr style=\"text-align: right;\">\n",
       "      <th></th>\n",
       "      <th>name</th>\n",
       "      <th>year</th>\n",
       "      <th>claims</th>\n",
       "      <th>market claims</th>\n",
       "      <th>solved mean</th>\n",
       "      <th>market mean solved</th>\n",
       "      <th>response mean</th>\n",
       "      <th>market response mean</th>\n",
       "      <th>mean days</th>\n",
       "      <th>mean days market</th>\n",
       "    </tr>\n",
       "  </thead>\n",
       "  <tbody>\n",
       "    <tr>\n",
       "      <th>115</th>\n",
       "      <td>abcdin</td>\n",
       "      <td>2019</td>\n",
       "      <td>4424</td>\n",
       "      <td>94772</td>\n",
       "      <td>47.6</td>\n",
       "      <td>68.0</td>\n",
       "      <td>99.4</td>\n",
       "      <td>87.4</td>\n",
       "      <td>5</td>\n",
       "      <td>5.0</td>\n",
       "    </tr>\n",
       "    <tr>\n",
       "      <th>116</th>\n",
       "      <td>abcdin</td>\n",
       "      <td>2020</td>\n",
       "      <td>6775</td>\n",
       "      <td>385816</td>\n",
       "      <td>56.1</td>\n",
       "      <td>79.2</td>\n",
       "      <td>91.6</td>\n",
       "      <td>86.1</td>\n",
       "      <td>5</td>\n",
       "      <td>6.0</td>\n",
       "    </tr>\n",
       "    <tr>\n",
       "      <th>117</th>\n",
       "      <td>abcdin</td>\n",
       "      <td>2021</td>\n",
       "      <td>7256</td>\n",
       "      <td>282818</td>\n",
       "      <td>63.1</td>\n",
       "      <td>73.9</td>\n",
       "      <td>100.0</td>\n",
       "      <td>88.5</td>\n",
       "      <td>5</td>\n",
       "      <td>4.0</td>\n",
       "    </tr>\n",
       "    <tr>\n",
       "      <th>118</th>\n",
       "      <td>abcdin</td>\n",
       "      <td>2022</td>\n",
       "      <td>3238</td>\n",
       "      <td>186318</td>\n",
       "      <td>41.9</td>\n",
       "      <td>68.2</td>\n",
       "      <td>98.9</td>\n",
       "      <td>89.4</td>\n",
       "      <td>2</td>\n",
       "      <td>4.0</td>\n",
       "    </tr>\n",
       "  </tbody>\n",
       "</table>\n",
       "</div>"
      ],
      "text/plain": [
       "       name  year  claims  market claims  solved mean  market mean solved  \\\n",
       "115  abcdin  2019    4424          94772         47.6                68.0   \n",
       "116  abcdin  2020    6775         385816         56.1                79.2   \n",
       "117  abcdin  2021    7256         282818         63.1                73.9   \n",
       "118  abcdin  2022    3238         186318         41.9                68.2   \n",
       "\n",
       "     response mean  market response mean mean days  mean days market  \n",
       "115           99.4                  87.4         5               5.0  \n",
       "116           91.6                  86.1         5               6.0  \n",
       "117          100.0                  88.5         5               4.0  \n",
       "118           98.9                  89.4         2               4.0  "
      ]
     },
     "execution_count": 46,
     "metadata": {},
     "output_type": "execute_result"
    }
   ],
   "source": [
    "df[df['name'] == name]"
   ]
  },
  {
   "cell_type": "code",
   "execution_count": 57,
   "id": "fa65f52c",
   "metadata": {},
   "outputs": [
    {
     "data": {
      "image/png": "[encoded data removed]",
      "text/plain": [
       "<Figure size 600x600 with 1 Axes>"
      ]
     },
     "metadata": {},
     "output_type": "display_data"
    }
   ],
   "source": [
    "fig, ax = plt.subplots(figsize=(6, 6))\n",
    "wedgeprops = {'width':0.3, 'edgecolor':'black', 'linewidth':3}\n",
    "ax.pie([87,13], wedgeprops=wedgeprops, startangle=90, colors=['#5DADE2', '#515A5A'])\n",
    "#plt.title('Worldwide Access to Electricity', fontsize=24, loc='left')\n",
    "plt.text(0, 0, \"87%\", ha='center', va='center', fontsize=42)\n",
    "plt.show()"
   ]
  },
  {
   "cell_type": "code",
   "execution_count": 50,
   "id": "924d66af",
   "metadata": {
    "scrolled": true
   },
   "outputs": [
    {
     "name": "stdout",
     "output_type": "stream",
     "text": [
      "2020 53.14195298372514\n",
      "2021 7.099630996309964\n",
      "2022 -55.374862183020944\n"
     ]
    },
    {
     "name": "stderr",
     "output_type": "stream",
     "text": [
      "/var/folders/d7/8p0ttxzj1hjfc8kt7j0lp8wr0000gn/T/ipykernel_41728/451775398.py:6: UserWarning: Boolean Series key will be reindexed to match DataFrame index.\n",
      "  tasa = (df[df['name'] == name][df['year']==year]['claims'].values[0] - df[df['name'] == name][df['year']==int(year)-1]['claims'].values[0]) / df[df['name'] == name][df['year']==int(year)-1]['claims'].values[0]\n"
     ]
    }
   ],
   "source": [
    "#tasa de crecimiento de reclamos\n",
    "# (reclamos_año_actual - reclamos_año_anterior) / reclamos_año_anterior\n",
    "\n",
    "name = 'abcdin'\n",
    "for year in range(2020, 2022+1):\n",
    "    tasa = (df[df['name'] == name][df['year']==year]['claims'].values[0] - df[df['name'] == name][df['year']==int(year)-1]['claims'].values[0]) / df[df['name'] == name][df['year']==int(year)-1]['claims'].values[0]\n",
    "    print(year, tasa * 100)\n"
   ]
  },
  {
   "cell_type": "code",
   "execution_count": null,
   "id": "bfd3a3b1",
   "metadata": {},
   "outputs": [],
   "source": [
    "#Tasa de Crecimiento de la Eficiencia de Resolución: \n",
    "#Muestra cómo ha evolucionado la eficiencia de resolución de reclamos de una empresa año tras año.\n",
    "\n",
    "#(porcentaje_Resuelto_actual - porcentaje_Resuelto_anterior) / anterior"
   ]
  },
  {
   "cell_type": "code",
   "execution_count": null,
   "id": "e6baae7a",
   "metadata": {},
   "outputs": [],
   "source": [
    "#Índice de Satisfacción del Cliente (ISC): \n",
    "#Aunque los datos no proporcionan una métrica directa de satisfacción, \n",
    "#podemos inferir una aproximación basada en la rapidez de respuesta y la tasa de resolución. \n",
    "#Una empresa que responde y resuelve rápidamente podría tener clientes más satisfechos.\n",
    "\n",
    "\n",
    "#ISC =(Porcentaje de Reclamos Respondidos+Porcentaje de Reclamos Resueltos)/2\n"
   ]
  },
  {
   "cell_type": "markdown",
   "id": "e51e5218",
   "metadata": {},
   "source": [
    "## tasa de reclamos cyber"
   ]
  },
  {
   "cell_type": "code",
   "execution_count": 10,
   "id": "ea6e7de9",
   "metadata": {},
   "outputs": [],
   "source": [
    "#https://www.shipit.cl/hs-fs/hubfs/Ebooks/Abrir%20esta%20gu%C3%ADa%20en%20caso%20de%20Cyber%20o%20Hot%20Sale%202022/Tasa_de_reclamos_eventos_cyber_a_2022.jpg?width=561&height=333&name=Tasa_de_reclamos_eventos_cyber_a_2022.jpg\n",
    "#https://www.shipit.cl/blog/analizando-el-cyber-cifras-historicas-ecommerce\n"
   ]
  },
  {
   "cell_type": "markdown",
   "id": "57d1c02e",
   "metadata": {},
   "source": [
    "## las empresas que poseen un aumento en el numero de reclamos y ademas tienen retraso en la respuesta y que y no responden positvamente hay que tener ojo\n",
    "\n",
    "## que empresas mantuvieron sus reclamos el 2021\n",
    "\n",
    "\n"
   ]
  },
  {
   "cell_type": "code",
   "execution_count": 49,
   "id": "17183dfa",
   "metadata": {},
   "outputs": [
    {
     "data": {
      "text/plain": [
       "0.054014612732527854"
      ]
     },
     "execution_count": 49,
     "metadata": {},
     "output_type": "execute_result"
    }
   ],
   "source": [
    "df['claims'].corr(df['solved mean'])"
   ]
  }
 ],
 "metadata": {
  "kernelspec": {
   "display_name": "Python 3 (ipykernel)",
   "language": "python",
   "name": "python3"
  },
  "language_info": {
   "codemirror_mode": {
    "name": "ipython",
    "version": 3
   },
   "file_extension": ".py",
   "mimetype": "text/x-python",
   "name": "python",
   "nbconvert_exporter": "python",
   "pygments_lexer": "ipython3",
   "version": "3.11.2"
  }
 },
 "nbformat": 4,
 "nbformat_minor": 5
}
